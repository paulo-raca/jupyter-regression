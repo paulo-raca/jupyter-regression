{
 "cells": [
  {
   "cell_type": "code",
   "execution_count": 18,
   "metadata": {},
   "outputs": [],
   "source": [
    "import pandas as pd\n",
    "import sympy\n",
    "import numpy\n",
    "from data_fit import DataFit\n",
    "import sympy.physics.units as units\n",
    "import tensorboard\n",
    "\n"
   ]
  },
  {
   "cell_type": "code",
   "execution_count": 35,
   "metadata": {},
   "outputs": [
    {
     "name": "stdout",
     "output_type": "stream",
     "text": [
      "∂Temp_model/∂U = Tensor(\"gradients_5/expressions/Temp_model/mul_grad/Reshape_1:0\", shape=(), dtype=float64)\n",
      "∂Temp_model/∂Temp_amb = Tensor(\"gradients_5/expressions/Temp_model/add_1_grad/Reshape_1:0\", shape=(), dtype=float64)\n",
      "∂Temp_model/∂K = Tensor(\"gradients_5/expressions/Temp_model/mul_grad/Reshape:0\", shape=(), dtype=float64)\n",
      "∂Temp_model/∂L = Tensor(\"gradients_5/expressions/Temp_model/sub_grad/Reshape:0\", shape=(), dtype=float64)\n",
      "∂Temp_model/∂T = Tensor(\"gradients_5/expressions/Temp_model/truediv_grad/Reshape_1:0\", shape=(), dtype=float64)\n",
      "∂F_MSE/∂U = Tensor(\"gradients_6/expressions/Temp_model/mul_grad/Reshape_1:0\", shape=(), dtype=float64)\n",
      "∂F_MSE/∂Temp_amb = Tensor(\"gradients_6/expressions/Temp_model/add_1_grad/Reshape_1:0\", shape=(), dtype=float64)\n",
      "∂F_MSE/∂K = Tensor(\"gradients_6/expressions/Temp_model/mul_grad/Reshape:0\", shape=(), dtype=float64)\n",
      "∂F_MSE/∂L = Tensor(\"gradients_6/expressions/Temp_model/sub_grad/Reshape:0\", shape=(), dtype=float64)\n",
      "∂F_MSE/∂T = Tensor(\"gradients_6/expressions/Temp_model/truediv_grad/Reshape_1:0\", shape=(), dtype=float64)\n",
      "∂F_MSE/∂Temp_model = Tensor(\"gradients_6/objectives/F_MSE/mean_squared_error/ToFloat_grad/Cast:0\", dtype=float64)\n"
     ]
    },
    {
     "data": {
      "text/plain": [
       "{'U': 30.0,\n",
       " 'Temp_amb': 24.9,\n",
       " 'K': 0.8609334446306008,\n",
       " 'L': 13.49489339908424,\n",
       " 'T': 77.72232515977852,\n",
       " 'Temp_model': array([25.39535209, 26.97372757, 28.45376083, 29.84157918, 31.14292816,\n",
       "        32.36319532, 33.50743255, 34.58037697, 35.58647054, 36.52987847,\n",
       "        37.41450645, 38.24401683, 39.02184375, 39.75120742, 40.43512736,\n",
       "        41.07643502, 41.67778537, 42.241668  , 42.77041738, 43.26622252,\n",
       "        43.73113603, 44.16708266, 44.5758672 , 44.95918203, 45.31861405,\n",
       "        45.65565132, 45.97168914, 46.26803593, 46.54591853, 46.8064874 ,\n",
       "        47.05082126, 47.27993167, 47.49476713, 47.69621706, 47.88511545,\n",
       "        48.06224435, 48.22833705, 48.38408119, 48.53012154, 48.66706271,\n",
       "        48.79547162, 48.91587989, 49.028786  , 49.13465739, 49.23393236,\n",
       "        49.32702191, 49.41431142, 49.49616227]),\n",
       " 'F_MSE': 0.020868791,\n",
       " '∂Temp_model/∂U': 28.38995061172908,\n",
       " '∂Temp_model/∂Temp_amb': 48.0,\n",
       " '∂Temp_model/∂K': 989.2733563362835,\n",
       " '∂Temp_model/∂L': -4.992717872483404,\n",
       " '∂Temp_model/∂T': -4.193973708761993,\n",
       " '∂F_MSE/∂U': -2.6825957410597146e-06,\n",
       " '∂F_MSE/∂Temp_amb': -6.198935443535447e-05,\n",
       " '∂F_MSE/∂K': -9.347746069537574e-05,\n",
       " '∂F_MSE/∂L': 1.9564306368549146e-05,\n",
       " '∂F_MSE/∂T': -9.182087125049921e-05,\n",
       " '∂F_MSE/∂Temp_model': array([-0.02102701, -0.00109466,  0.0064067 ,  0.00589911,  0.00595538,\n",
       "         0.00263309,  0.00030963,  0.01168235,  0.00776958,  0.00957823,\n",
       "         0.00893768,  0.00183407, -0.00742324, -0.00619968, -0.0110364 ,\n",
       "        -0.00931517,  0.00324106, -0.00243044, -0.00956599, -0.00557407,\n",
       "         0.00129732, -0.00553815, -0.00100549, -0.00586732,  0.00494226,\n",
       "         0.00231886, -0.0011797 , -0.00133181, -0.00225337,  0.00027037,\n",
       "        -0.00204913,  0.00333039,  0.00394853, -0.00432428,  0.00354656,\n",
       "         0.00259352,  0.00118065,  0.00350348,  0.00542164,  0.00279427,\n",
       "         0.00397793,  0.00482829,  0.0011994 ,  0.00144418,  0.00141382,\n",
       "        -0.00304079, -0.0035704 , -0.00849327])}"
      ]
     },
     "execution_count": 35,
     "metadata": {},
     "output_type": "execute_result"
    }
   ],
   "source": [
    "datafit = DataFit()\n",
    "datafit.add_experimental_data(\"Time\", 1, \"Time\")\n",
    "datafit.add_experimental_data(\"Temp_exp\", 1, \"Temperature\")\n",
    "\n",
    "\n",
    "datafit.add_constant(\"U\", 30, 1, \"Heater Power\")\n",
    "datafit.add_constant(\"Temp_amb\", 24.9, 1, \"Ambient Temperature\")\n",
    "\n",
    "\n",
    "#  \n",
    "datafit.add_parameter(\"K\", 1, \"Gain\", initial_guess=1)\n",
    "datafit.add_parameter(\"L\", 1, \"Transport Delay\", initial_guess=12)\n",
    "datafit.add_parameter(\"T\", 1, \"Timet constant\", initial_guess=75)\n",
    "datafit.add_expr(\"Temp_model\", 1, datafit.Temp_amb + datafit.U * datafit.K * (1 - sympy.exp(-(datafit.Time-datafit.L)/datafit.T)), \"Predicted temperature\")\n",
    "datafit.add_optimization_objective(\"F_MSE\", 1, datafit.Temp_exp, datafit.Temp_model)\n",
    "\n",
    "data = pd.DataFrame(data=dict(\n",
    "    Time=[15, 20, 25, 30, 35, 40, 45, 50, 55, 60, 65, 70, 75, 80, 85, 90, 95, 100, 105, 110, 115, 120, 125, 130, 135, 140, 145, 150, 155, 160, 165, 170, 175, 180, 185, 190, 195, 200, 205, 210, 215, 220, 225, 230, 235, 240, 245, 250], \n",
    "    Temp_exp=[25.9, 27, 28.3, 29.7, 31, 32.3, 33.5, 34.3, 35.4, 36.3, 37.2, 38.2, 39.2, 39.9, 40.7, 41.3, 41.6, 42.3, 43, 43.4, 43.7, 44.3, 44.6, 45.1, 45.2, 45.6, 46, 46.3, 46.6, 46.8, 47.1, 47.2, 47.4, 47.8, 47.8, 48, 48.2, 48.3, 48.4, 48.6, 48.7, 48.8, 49, 49.1, 49.2, 49.4, 49.5, 49.7]\n",
    "))\n",
    "datafit.fit(data)"
   ]
  }
 ],
 "metadata": {
  "kernelspec": {
   "display_name": "Python 3",
   "language": "python",
   "name": "python3"
  },
  "language_info": {
   "codemirror_mode": {
    "name": "ipython",
    "version": 3
   },
   "file_extension": ".py",
   "mimetype": "text/x-python",
   "name": "python",
   "nbconvert_exporter": "python",
   "pygments_lexer": "ipython3",
   "version": "3.6.8"
  }
 },
 "nbformat": 4,
 "nbformat_minor": 2
}
