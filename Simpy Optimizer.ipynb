{
 "cells": [
  {
   "cell_type": "code",
   "execution_count": 1,
   "metadata": {},
   "outputs": [],
   "source": [
    "import numpy as np\n",
    "import sympy\n",
    "sympy.init_printing()\n",
    "\n",
    "class SymbolVectorMetaclass(type):\n",
    "    def __getattr__(cls, key):\n",
    "        return cls(key)\n",
    "\n",
    "class SymbolVector(metaclass = SymbolVectorMetaclass):\n",
    "    \"\"\"\n",
    "    And infinite array of symbols.\n",
    "    \n",
    "    SymbolVector.x yields [x_0, x_1, x_2, ...]\n",
    "    \"\"\"\n",
    "    def __init__(self, name):\n",
    "        self.name = name\n",
    "\n",
    "    @staticmethod\n",
    "    def __getattr__(cls, key):\n",
    "        return Vector(key)\n",
    "        \n",
    "    def __getitem__( self, key ) :\n",
    "        if isinstance( key, slice ) :\n",
    "            if (key.start is not None and key.start < 0) or (key.stop is not None and key.stop < 0):\n",
    "                raise IndexError(\"Negative indexes are not supported\")\n",
    "            return [self[ii] for ii in range(*key.indices(sys.maxsize))]\n",
    "\n",
    "        elif isinstance(key, int):\n",
    "            if key < 0:\n",
    "                raise IndexError(\"Negative indexes are not supported\")\n",
    "            return sympy.Symbol(f'{self.name}_{key}')\n",
    "\n",
    "        else:\n",
    "            raise TypeError(\"Invalid argument type.\")\n",
    "    \n",
    "    def __repr__(self):\n",
    "        return self.name + '[]'\n",
    "\n",
    "\n",
    "class Model:\n",
    "    def __init__(self, name, expr, init):\n",
    "        self.name = name\n",
    "        self.init = init\n"
   ]
  },
  {
   "cell_type": "code",
   "execution_count": 5,
   "metadata": {},
   "outputs": [
    {
     "data": {
      "image/png": "[encoded data removed]",
      "text/latex": [
       "$$x_{0} + 4$$"
      ],
      "text/plain": [
       "x₀ + 4"
      ]
     },
     "execution_count": 5,
     "metadata": {},
     "output_type": "execute_result"
    }
   ],
   "source": [
    "sympy.parsing.sympy_parser.parse_expr('x_0 + 4')"
   ]
  },
  {
   "cell_type": "code",
   "execution_count": 2,
   "metadata": {},
   "outputs": [
    {
     "data": {
      "text/plain": [
       "'Linear'"
      ]
     },
     "metadata": {},
     "output_type": "display_data"
    },
    {
     "data": {
      "image/png": "[encoded data removed]",
      "text/latex": [
       "$$k_{0} + k_{1} x_{1}$$"
      ],
      "text/plain": [
       "k₀ + k₁⋅x₁"
      ]
     },
     "metadata": {},
     "output_type": "display_data"
    },
    {
     "data": {
      "text/plain": [
       "'Langmuir'"
      ]
     },
     "metadata": {},
     "output_type": "display_data"
    },
    {
     "data": {
      "image/png": "[encoded data removed]",
      "text/latex": [
       "$$\\frac{k_{0} x_{1}}{k_{1} x_{1} + 1}$$"
      ],
      "text/plain": [
       "  k₀⋅x₁  \n",
       "─────────\n",
       "k₁⋅x₁ + 1"
      ]
     },
     "metadata": {},
     "output_type": "display_data"
    },
    {
     "data": {
      "text/plain": [
       "'Freundlinch'"
      ]
     },
     "metadata": {},
     "output_type": "display_data"
    },
    {
     "data": {
      "image/png": "[encoded data removed]",
      "text/latex": [
       "$$k_{0} x_{1}^{k_{1}}$$"
      ],
      "text/plain": [
       "     k₁\n",
       "k₀⋅x₁  "
      ]
     },
     "metadata": {},
     "output_type": "display_data"
    }
   ],
   "source": [
    "k = SymbolVector.k\n",
    "x = SymbolVector.x\n",
    "\n",
    "functions = {\n",
    "    'Linear': k[0] + k[1]*x[1],\n",
    "    'Langmuir': k[0] * x[1] / (1 + k[1] * x[1]),\n",
    "    'Freundlinch': k[0] * (x[1] ** k[1]),\n",
    "}\n",
    "for k, v in functions.items():\n",
    "    display(k, functions[k])\n",
    "\n",
    "    \n",
    "data = [1.288, 1.723, 2.265, 2.755, 3.363, 3.764, 4.475, 4.911],\n",
    "        [11.750, 10.872, 10.189, 7.773, 7.821, 11.301, 9.688, 9.566]"
   ]
  },
  {
   "cell_type": "code",
   "execution_count": 3,
   "metadata": {},
   "outputs": [
    {
     "ename": "SyntaxError",
     "evalue": "invalid syntax (<ipython-input-3-40cad32748c7>, line 1)",
     "output_type": "error",
     "traceback": [
      "\u001b[0;36m  File \u001b[0;32m\"<ipython-input-3-40cad32748c7>\"\u001b[0;36m, line \u001b[0;32m1\u001b[0m\n\u001b[0;31m    func =\u001b[0m\n\u001b[0m           ^\u001b[0m\n\u001b[0;31mSyntaxError\u001b[0m\u001b[0;31m:\u001b[0m invalid syntax\n"
     ]
    }
   ],
   "source": [
    "func = \n",
    "        [1.288, 1.723, 2.265, 2.755, 3.363, 3.764, 4.475, 4.911],\n",
    "        [11.750, 10.872, 10.189, 7.773, 7.821, 11.301, 9.688, 9.566]\n",
    "\n",
    "# Generate artificial data = straight line with a=0 and b=1\n",
    "# plus some noise.\n",
    "xdata = numpy.array([0.0,1.0,2.0,3.0,4.0,5.0])\n",
    "ydata = numpy.array([0.1,0.9,2.2,2.8,3.9,5.1])\n",
    "# Initial guess.\n",
    "x0    = numpy.array([0.0, 0.0, 0.0])\n",
    "#Data errors can also easily be provided:\n",
    "\n",
    "sigma = numpy.array([1.0,1.0,1.0,1.0,1.0,1.0])\n",
    "#The objective function is easily (but less general) defined as the model:\n",
    "\n",
    "def func(x, a, b, c):\n",
    "    return a + b*x + c*x*x\n",
    "#Usage is very simple:\n",
    "\n",
    "import scipy.optimize as optimization\n",
    "\n",
    "print(optimization.curve_fit(func, xdata, ydata, x0, sigma))"
   ]
  }
 ],
 "metadata": {
  "kernelspec": {
   "display_name": "Python 3",
   "language": "python",
   "name": "python3"
  },
  "language_info": {
   "codemirror_mode": {
    "name": "ipython",
    "version": 3
   },
   "file_extension": ".py",
   "mimetype": "text/x-python",
   "name": "python",
   "nbconvert_exporter": "python",
   "pygments_lexer": "ipython3",
   "version": "3.6.5"
  }
 },
 "nbformat": 4,
 "nbformat_minor": 2
}
